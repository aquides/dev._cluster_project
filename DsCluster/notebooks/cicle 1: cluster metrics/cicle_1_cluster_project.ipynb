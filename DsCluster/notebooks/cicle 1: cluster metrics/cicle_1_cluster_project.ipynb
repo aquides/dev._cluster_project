{
 "cells": [
  {
   "cell_type": "markdown",
   "id": "fa895b31",
   "metadata": {
    "heading_collapsed": true
   },
   "source": [
    "#  HIGH VALUE CUSTOMER IDENTIFICATION (INSERDS)"
   ]
  },
  {
   "cell_type": "markdown",
   "id": "15bad76f",
   "metadata": {
    "heading_collapsed": true,
    "hidden": true
   },
   "source": [
    "## 0.0. PLANEJAMENTO DA SOLUÇÃ̃O:\n",
    "\n",
    "1.0 Problema de Negòcio\n",
    "    \n",
    "    Selecionar os clientes mais valiosos para integrar um programa de fidelização\n",
    "    \n",
    "    \n",
    "2.0 Conjunto de Dados\n",
    "    \n",
    "    Vendas de um e-commerce online, durante um período do ano"
   ]
  },
  {
   "cell_type": "markdown",
   "id": "1f88ae67",
   "metadata": {
    "hidden": true
   },
   "source": [
    "## OUTPUT - SAÍDA\n",
    "\n",
    "1. A indicação das ́pessoas que farao aprte do programa de insiders\n",
    "    lista: client_id | is_insider\n",
    "    \n",
    "                12435 | yes\n",
    "                21332 | no\n",
    "                \n",
    "2.Relatório com as respostas das pergumtas de negócio?\n",
    "\n",
    "    Quem são as pessoas elegíveis para participar do programa de Insiders ?\n",
    "\n",
    "    Quantos clientes farão parte do grupo?\n",
    "\n",
    "    Quais as principais características desses clientes ?\n",
    "\n",
    "    Qual a porcentagem de contribuição do faturamento, vinda do Insiders ?\n",
    "\n",
    "    Qual a expectativa de faturamento desse grupo para os próximos meses ?\n",
    "\n",
    "    Quais as condições para uma pessoa ser elegível ao Insiders ?\n",
    "\n",
    "    Quais as condições para uma pessoa ser removida do Insiders ?\n",
    "\n",
    "    Qual a garantia que o programa Insiders é melhor que o restante da base ?\n",
    "\n",
    "    Quais ações o time de marketing pode realizar para aumentar o faturamento?"
   ]
  },
  {
   "cell_type": "markdown",
   "id": "cccfaa5f",
   "metadata": {
    "hidden": true
   },
   "source": [
    "## TASKS\n",
    "\n",
    "Quem são as pessoas elegíveis para participar do programa de Insiders ?\n",
    "\n",
    "    O que é ser elegível? O que são clientes de maior \"valor\"?\n",
    "    Faturamento:\n",
    "\n",
    "        Alto ticket médio.\n",
    "        Alto LTV.\n",
    "        Baixa recência.\n",
    "        Alto basket size.\n",
    "        Baixa probabilidade de churn.\n",
    "        Alta previsão LTV.\n",
    "        Alta propensão de compra.\n",
    "        \n",
    "    Custo:\n",
    "        Baixa taxa de devolução.\n",
    "    Experiencia de compra:\n",
    "\n",
    "        Média alta de avaliação\n",
    "        Quantos clientes farão parte do grupo?\n",
    "        Número total de clientes;\n",
    "        % do grupo Insiders\n",
    "        Quais as principais características desses clientes ?\n",
    "\n",
    "    Escrever características do cliente:\n",
    "        Idade;\n",
    "        Localização;\n",
    "        País;\n",
    "        \n",
    "    Escrever caracteristicas do consumo:\n",
    "        Atributos da clusterização\n",
    "            Qual a porcentagem de contribuição do faturamento, vinda do Insiders ?\n",
    "                Faturamento total do ano;\n",
    "                Faturamento do grupo Insiders;\n",
    "                \n",
    "            Qual a expectativa de faturamento desse grupo para os próximos meses ?\n",
    "                LTV do grupo Insiders;\n",
    "                Análise de Cohort;\n",
    "                Séries temporais (ARIMA, HoltWinter);\n",
    "                \n",
    "            Quais as condições para uma pessoa ser elegível ao Insiders ?\n",
    "                Definir a periodicidade (1 mês, 3 mêses);\n",
    "                A pessoa precsa ser similar ou parecido com uma pessoa do grupo\n",
    "                \n",
    "            Quais as condições para uma pessoa ser removida do Insiders ?\n",
    "                Definir a periodicidade (1 mês, 3 mêses);\n",
    "                \n",
    "                A pessoa precisa ser desimilar ou não-parecido com uma pessoa do grupo\n",
    "            Qual a garantia que o programa Insiders é melhor que o restante da base ?\n",
    "                Teste A/B\n",
    "                Teste A/B Bayesiano\n",
    "                Teste de hipóteses\n",
    "                \n",
    "            Quais ações o time de marketing pode realizar para aumentar o faturamento?\n",
    "                Desconto;\n",
    "                Preferencia de compra;\n",
    "                Produtos exclusivos"
   ]
  },
  {
   "cell_type": "code",
   "execution_count": null,
   "id": "f2a5dceb",
   "metadata": {
    "hidden": true
   },
   "outputs": [],
   "source": []
  },
  {
   "cell_type": "markdown",
   "id": "510c6901",
   "metadata": {},
   "source": [
    "# 0.0 IMPORTS"
   ]
  },
  {
   "cell_type": "markdown",
   "id": "cc05395f",
   "metadata": {},
   "source": []
  },
  {
   "cell_type": "markdown",
   "id": "fc66bdbc",
   "metadata": {},
   "source": [
    "## 0.1 LOAD DATA"
   ]
  },
  {
   "cell_type": "markdown",
   "id": "f919a6fc",
   "metadata": {},
   "source": []
  },
  {
   "cell_type": "markdown",
   "id": "5d652ac7",
   "metadata": {},
   "source": [
    "# 1.0 DATA DESCRIPTION"
   ]
  },
  {
   "cell_type": "markdown",
   "id": "b1b81d09",
   "metadata": {},
   "source": []
  },
  {
   "cell_type": "markdown",
   "id": "a2e59866",
   "metadata": {},
   "source": [
    "## 1.1 RENAME COLUMNS"
   ]
  },
  {
   "cell_type": "markdown",
   "id": "241fe67d",
   "metadata": {},
   "source": [
    "## 1.2 DATA DIMENSION"
   ]
  },
  {
   "cell_type": "markdown",
   "id": "9325b839",
   "metadata": {},
   "source": []
  },
  {
   "cell_type": "markdown",
   "id": "e41f6349",
   "metadata": {},
   "source": [
    "## 1.3 DATA TYPES"
   ]
  },
  {
   "cell_type": "markdown",
   "id": "5e2d5cc4",
   "metadata": {},
   "source": []
  },
  {
   "cell_type": "markdown",
   "id": "4cfbb8c7",
   "metadata": {},
   "source": [
    "## 1.4 CHECK NA"
   ]
  },
  {
   "cell_type": "markdown",
   "id": "a2d4befb",
   "metadata": {},
   "source": []
  },
  {
   "cell_type": "markdown",
   "id": "78d74257",
   "metadata": {},
   "source": [
    "## 1.5 REPLACE NA"
   ]
  },
  {
   "cell_type": "markdown",
   "id": "c5c37d0d",
   "metadata": {},
   "source": []
  },
  {
   "cell_type": "markdown",
   "id": "d99d3b8d",
   "metadata": {},
   "source": [
    "## 1.6 CHANGE TYPES"
   ]
  },
  {
   "cell_type": "markdown",
   "id": "fa716a90",
   "metadata": {},
   "source": []
  },
  {
   "cell_type": "markdown",
   "id": "033b7478",
   "metadata": {},
   "source": [
    "## 1.7 DESCRIPTIVE STATISTICS"
   ]
  },
  {
   "cell_type": "markdown",
   "id": "cde66f57",
   "metadata": {},
   "source": []
  },
  {
   "cell_type": "markdown",
   "id": "0999838a",
   "metadata": {},
   "source": [
    "# 2. FEATURE ENGINEERING"
   ]
  },
  {
   "cell_type": "markdown",
   "id": "87667307",
   "metadata": {},
   "source": []
  },
  {
   "cell_type": "markdown",
   "id": "03466a98",
   "metadata": {},
   "source": [
    "## 2.1 FEATURE CREATION"
   ]
  },
  {
   "cell_type": "markdown",
   "id": "c42ab74f",
   "metadata": {},
   "source": []
  },
  {
   "cell_type": "markdown",
   "id": "b7ebe2eb",
   "metadata": {},
   "source": [
    "# 3. VARIABLE FILTERING"
   ]
  },
  {
   "cell_type": "code",
   "execution_count": null,
   "id": "1856ce29",
   "metadata": {},
   "outputs": [],
   "source": []
  },
  {
   "cell_type": "markdown",
   "id": "ef398f0b",
   "metadata": {},
   "source": []
  },
  {
   "cell_type": "markdown",
   "id": "f8cb469f",
   "metadata": {},
   "source": [
    "# 4. EDA"
   ]
  },
  {
   "cell_type": "markdown",
   "id": "bbea7983",
   "metadata": {},
   "source": []
  },
  {
   "cell_type": "markdown",
   "id": "cdbb85b3",
   "metadata": {},
   "source": [
    "# 5. DATA PREPARATION"
   ]
  },
  {
   "cell_type": "markdown",
   "id": "2742857b",
   "metadata": {},
   "source": []
  },
  {
   "cell_type": "markdown",
   "id": "4b1db375",
   "metadata": {},
   "source": [
    "# 6. FEATURE SELECTION"
   ]
  },
  {
   "cell_type": "markdown",
   "id": "d82037be",
   "metadata": {},
   "source": []
  },
  {
   "cell_type": "markdown",
   "id": "b1c02399",
   "metadata": {},
   "source": [
    "# 7. HYPERPARAMATER FINE TUNING"
   ]
  },
  {
   "cell_type": "markdown",
   "id": "ee12cdc1",
   "metadata": {},
   "source": []
  },
  {
   "cell_type": "markdown",
   "id": "7e852597",
   "metadata": {},
   "source": [
    "## 7.1 WITHIN CLUSTER SUM OF SQUARE (WSS)"
   ]
  },
  {
   "cell_type": "markdown",
   "id": "3668c7f2",
   "metadata": {},
   "source": []
  },
  {
   "cell_type": "markdown",
   "id": "a3c0c5f3",
   "metadata": {},
   "source": [
    "## 7.2 SILHOUETTE SCORE"
   ]
  },
  {
   "cell_type": "markdown",
   "id": "a8532e53",
   "metadata": {},
   "source": []
  },
  {
   "cell_type": "markdown",
   "id": "2066b536",
   "metadata": {},
   "source": [
    "# 8. MODEL TRAINING"
   ]
  },
  {
   "cell_type": "markdown",
   "id": "0a3734bd",
   "metadata": {},
   "source": []
  },
  {
   "cell_type": "markdown",
   "id": "4dcc266e",
   "metadata": {},
   "source": [
    "## 8.1 K-MEANS"
   ]
  },
  {
   "cell_type": "markdown",
   "id": "22f33464",
   "metadata": {},
   "source": []
  },
  {
   "cell_type": "markdown",
   "id": "dbc20878",
   "metadata": {},
   "source": [
    "## 8.2 CLUSTER VALIDATION"
   ]
  },
  {
   "cell_type": "markdown",
   "id": "021e3c92",
   "metadata": {},
   "source": []
  },
  {
   "cell_type": "markdown",
   "id": "a474e965",
   "metadata": {},
   "source": [
    "# 9. CLUSTER ANALYSIS"
   ]
  },
  {
   "cell_type": "markdown",
   "id": "279e58e9",
   "metadata": {},
   "source": []
  },
  {
   "cell_type": "markdown",
   "id": "7c7cc1f7",
   "metadata": {},
   "source": [
    "## 9.1 VISUALIZATION INSPECTOR"
   ]
  },
  {
   "cell_type": "markdown",
   "id": "09a39f5b",
   "metadata": {},
   "source": []
  },
  {
   "cell_type": "markdown",
   "id": "b84c17c2",
   "metadata": {},
   "source": [
    "## 9.2 CLUSTER PROFILE"
   ]
  },
  {
   "cell_type": "markdown",
   "id": "562be08e",
   "metadata": {},
   "source": []
  },
  {
   "cell_type": "markdown",
   "id": "1ad1327b",
   "metadata": {},
   "source": [
    "# 10. DEPLOY"
   ]
  },
  {
   "cell_type": "code",
   "execution_count": null,
   "id": "854f422a",
   "metadata": {},
   "outputs": [],
   "source": []
  }
 ],
 "metadata": {
  "kernelspec": {
   "display_name": "Python 3 (ipykernel)",
   "language": "python",
   "name": "python3"
  },
  "language_info": {
   "codemirror_mode": {
    "name": "ipython",
    "version": 3
   },
   "file_extension": ".py",
   "mimetype": "text/x-python",
   "name": "python",
   "nbconvert_exporter": "python",
   "pygments_lexer": "ipython3",
   "version": "3.9.7"
  }
 },
 "nbformat": 4,
 "nbformat_minor": 5
}
