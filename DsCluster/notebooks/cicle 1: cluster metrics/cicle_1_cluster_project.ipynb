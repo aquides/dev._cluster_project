{
 "cells": [
  {
   "cell_type": "markdown",
   "id": "fa895b31",
   "metadata": {
    "heading_collapsed": true
   },
   "source": [
    "#  HIGH VALUE CUSTOMER IDENTIFICATION (INSERDS)"
   ]
  },
  {
   "cell_type": "markdown",
   "id": "15bad76f",
   "metadata": {
    "heading_collapsed": true,
    "hidden": true
   },
   "source": [
    "## 0.0. PLANEJAMENTO DA SOLUÇÃ̃O:\n",
    "\n",
    "1.0 Problema de Negòcio\n",
    "    \n",
    "    Selecionar os clientes mais valiosos para integrar um programa de fidelização\n",
    "    \n",
    "    \n",
    "2.0 Conjunto de Dados\n",
    "    \n",
    "    Vendas de um e-commerce online, durante um período do ano"
   ]
  },
  {
   "cell_type": "markdown",
   "id": "1f88ae67",
   "metadata": {
    "hidden": true
   },
   "source": [
    "## OUTPUT - SAÍDA\n",
    "\n",
    "1. A indicação das ́pessoas que farao aprte do programa de insiders\n",
    "    lista: client_id | is_insider\n",
    "    \n",
    "                12435 | yes\n",
    "                21332 | no\n",
    "                \n",
    "2.Relatório com as respostas das pergumtas de negócio?\n",
    "\n",
    "    Quem são as pessoas elegíveis para participar do programa de Insiders ?\n",
    "\n",
    "    Quantos clientes farão parte do grupo?\n",
    "\n",
    "    Quais as principais características desses clientes ?\n",
    "\n",
    "    Qual a porcentagem de contribuição do faturamento, vinda do Insiders ?\n",
    "\n",
    "    Qual a expectativa de faturamento desse grupo para os próximos meses ?\n",
    "\n",
    "    Quais as condições para uma pessoa ser elegível ao Insiders ?\n",
    "\n",
    "    Quais as condições para uma pessoa ser removida do Insiders ?\n",
    "\n",
    "    Qual a garantia que o programa Insiders é melhor que o restante da base ?\n",
    "\n",
    "    Quais ações o time de marketing pode realizar para aumentar o faturamento?"
   ]
  },
  {
   "cell_type": "markdown",
   "id": "cccfaa5f",
   "metadata": {
    "hidden": true
   },
   "source": [
    "## TASKS\n",
    "\n",
    "Quem são as pessoas elegíveis para participar do programa de Insiders ?\n",
    "\n",
    "    O que é ser elegível? O que são clientes de maior \"valor\"?\n",
    "    Faturamento:\n",
    "\n",
    "        Alto ticket médio.\n",
    "        Alto LTV.\n",
    "        Baixa recência.\n",
    "        Alto basket size.\n",
    "        Baixa probabilidade de churn.\n",
    "        Alta previsão LTV.\n",
    "        Alta propensão de compra.\n",
    "        \n",
    "    Custo:\n",
    "        Baixa taxa de devolução.\n",
    "    Experiencia de compra:\n",
    "\n",
    "        Média alta de avaliação\n",
    "        Quantos clientes farão parte do grupo?\n",
    "        Número total de clientes;\n",
    "        % do grupo Insiders\n",
    "        Quais as principais características desses clientes ?\n",
    "\n",
    "    Escrever características do cliente:\n",
    "        Idade;\n",
    "        Localização;\n",
    "        País;\n",
    "        \n",
    "    Escrever caracteristicas do consumo:\n",
    "        Atributos da clusterização\n",
    "            Qual a porcentagem de contribuição do faturamento, vinda do Insiders ?\n",
    "                Faturamento total do ano;\n",
    "                Faturamento do grupo Insiders;\n",
    "                \n",
    "            Qual a expectativa de faturamento desse grupo para os próximos meses ?\n",
    "                LTV do grupo Insiders;\n",
    "                Análise de Cohort;\n",
    "                Séries temporais (ARIMA, HoltWinter);\n",
    "                \n",
    "            Quais as condições para uma pessoa ser elegível ao Insiders ?\n",
    "                Definir a periodicidade (1 mês, 3 mêses);\n",
    "                A pessoa precsa ser similar ou parecido com uma pessoa do grupo\n",
    "                \n",
    "            Quais as condições para uma pessoa ser removida do Insiders ?\n",
    "                Definir a periodicidade (1 mês, 3 mêses);\n",
    "                \n",
    "                A pessoa precisa ser desimilar ou não-parecido com uma pessoa do grupo\n",
    "            Qual a garantia que o programa Insiders é melhor que o restante da base ?\n",
    "                Teste A/B\n",
    "                Teste A/B Bayesiano\n",
    "                Teste de hipóteses\n",
    "                \n",
    "            Quais ações o time de marketing pode realizar para aumentar o faturamento?\n",
    "                Desconto;\n",
    "                Preferencia de compra;\n",
    "                Produtos exclusivos"
   ]
  },
  {
   "cell_type": "code",
   "execution_count": null,
   "id": "f2a5dceb",
   "metadata": {
    "hidden": true
   },
   "outputs": [],
   "source": []
  },
  {
   "cell_type": "code",
   "execution_count": null,
   "id": "5eab0ca3",
   "metadata": {
    "hidden": true
   },
   "outputs": [],
   "source": []
  },
  {
   "cell_type": "code",
   "execution_count": null,
   "id": "fc41b18b",
   "metadata": {
    "hidden": true
   },
   "outputs": [],
   "source": []
  },
  {
   "cell_type": "code",
   "execution_count": null,
   "id": "a61ed975",
   "metadata": {
    "hidden": true
   },
   "outputs": [],
   "source": []
  },
  {
   "cell_type": "code",
   "execution_count": null,
   "id": "2cfefb26",
   "metadata": {
    "hidden": true
   },
   "outputs": [],
   "source": []
  },
  {
   "cell_type": "code",
   "execution_count": null,
   "id": "901cae31",
   "metadata": {
    "hidden": true
   },
   "outputs": [],
   "source": []
  }
 ],
 "metadata": {
  "kernelspec": {
   "display_name": "Python 3 (ipykernel)",
   "language": "python",
   "name": "python3"
  },
  "language_info": {
   "codemirror_mode": {
    "name": "ipython",
    "version": 3
   },
   "file_extension": ".py",
   "mimetype": "text/x-python",
   "name": "python",
   "nbconvert_exporter": "python",
   "pygments_lexer": "ipython3",
   "version": "3.9.7"
  }
 },
 "nbformat": 4,
 "nbformat_minor": 5
}
